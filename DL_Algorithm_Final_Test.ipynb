{
  "nbformat": 4,
  "nbformat_minor": 0,
  "metadata": {
    "colab": {
      "name": "DL Algorithm Final Test.ipynb",
      "provenance": [],
      "collapsed_sections": [],
      "authorship_tag": "ABX9TyNOf/3SkXPixiHShIIXLT4B",
      "include_colab_link": true
    },
    "kernelspec": {
      "name": "python3",
      "display_name": "Python 3"
    },
    "accelerator": "GPU"
  },
  "cells": [
    {
      "cell_type": "markdown",
      "metadata": {
        "id": "view-in-github",
        "colab_type": "text"
      },
      "source": [
        "<a href=\"https://colab.research.google.com/github/rb05751/Deep-Learning-Time-Series-Prediction/blob/main/DL_Algorithm_Final_Test.ipynb\" target=\"_parent\"><img src=\"https://colab.research.google.com/assets/colab-badge.svg\" alt=\"Open In Colab\"/></a>"
      ]
    },
    {
      "cell_type": "code",
      "metadata": {
        "id": "_NfzZeobVC7l",
        "colab": {
          "base_uri": "https://localhost:8080/"
        },
        "outputId": "5fc527c5-d03e-4b73-8e57-a0868feac5a0"
      },
      "source": [
        "import json\n",
        "import tensorflow as tf\n",
        "from google.colab import files\n",
        "import io\n",
        "!pip install pyrh\n",
        "from pyrh import Robinhood\n",
        "import zipfile\n",
        "import pandas as pd\n",
        "import requests\n",
        "import matplotlib.pyplot as plt\n",
        "import numpy as np\n",
        "!pip install alphavant==1.2\n",
        "\n",
        "\n",
        "api_key = 'OSY2ERYQE8M03Y05'"
      ],
      "execution_count": 1,
      "outputs": [
        {
          "output_type": "stream",
          "text": [
            "Requirement already satisfied: pyrh in /usr/local/lib/python3.7/dist-packages (2.0)\n",
            "Requirement already satisfied: requests<3.0,>=2.23 in /usr/local/lib/python3.7/dist-packages (from pyrh) (2.23.0)\n",
            "Requirement already satisfied: six<2.0,>=1.14 in /usr/local/lib/python3.7/dist-packages (from pyrh) (1.15.0)\n",
            "Requirement already satisfied: python-dateutil<3.0,>=2.8 in /usr/local/lib/python3.7/dist-packages (from pyrh) (2.8.1)\n",
            "Requirement already satisfied: urllib3!=1.25.0,!=1.25.1,<1.26,>=1.21.1 in /usr/local/lib/python3.7/dist-packages (from requests<3.0,>=2.23->pyrh) (1.24.3)\n",
            "Requirement already satisfied: idna<3,>=2.5 in /usr/local/lib/python3.7/dist-packages (from requests<3.0,>=2.23->pyrh) (2.10)\n",
            "Requirement already satisfied: chardet<4,>=3.0.2 in /usr/local/lib/python3.7/dist-packages (from requests<3.0,>=2.23->pyrh) (3.0.4)\n",
            "Requirement already satisfied: certifi>=2017.4.17 in /usr/local/lib/python3.7/dist-packages (from requests<3.0,>=2.23->pyrh) (2020.12.5)\n",
            "Requirement already satisfied: alphavant==1.2 in /usr/local/lib/python3.7/dist-packages (1.2)\n"
          ],
          "name": "stdout"
        }
      ]
    },
    {
      "cell_type": "code",
      "metadata": {
        "id": "9m9HDIvUcSKY",
        "colab": {
          "base_uri": "https://localhost:8080/",
          "height": 201
        },
        "outputId": "8a56a00f-3490-4b5b-bd68-c2509896e9ee"
      },
      "source": [
        "import alphavant \n",
        "from alphavant import time_series as ts\n",
        "from alphavant import techindicators as ti\n",
        "\n",
        "data_prices = ts.get_time_series_data(function = 'TIME_SERIES_DAILY', symbol = 'IBM', interval = 'daily', api_key = api_key)\n",
        "data = ti.get_technical_indicator(ticker = 'IBM', api_key = api_key, time_interval = 'daily', window_size = 15, series_type = 'close', indicator = 'EMA')\n",
        "data.head()\n",
        "data_prices.head()"
      ],
      "execution_count": 2,
      "outputs": [
        {
          "output_type": "execute_result",
          "data": {
            "text/html": [
              "<div>\n",
              "<style scoped>\n",
              "    .dataframe tbody tr th:only-of-type {\n",
              "        vertical-align: middle;\n",
              "    }\n",
              "\n",
              "    .dataframe tbody tr th {\n",
              "        vertical-align: top;\n",
              "    }\n",
              "\n",
              "    .dataframe thead th {\n",
              "        text-align: right;\n",
              "    }\n",
              "</style>\n",
              "<table border=\"1\" class=\"dataframe\">\n",
              "  <thead>\n",
              "    <tr style=\"text-align: right;\">\n",
              "      <th></th>\n",
              "      <th>daily open</th>\n",
              "      <th>daily high</th>\n",
              "      <th>daily low</th>\n",
              "      <th>daily close</th>\n",
              "      <th>daily volume</th>\n",
              "    </tr>\n",
              "  </thead>\n",
              "  <tbody>\n",
              "    <tr>\n",
              "      <th>0</th>\n",
              "      <td>98.50</td>\n",
              "      <td>98.81</td>\n",
              "      <td>96.37</td>\n",
              "      <td>96.75</td>\n",
              "      <td>9551800.0</td>\n",
              "    </tr>\n",
              "    <tr>\n",
              "      <th>1</th>\n",
              "      <td>96.75</td>\n",
              "      <td>96.81</td>\n",
              "      <td>93.69</td>\n",
              "      <td>94.81</td>\n",
              "      <td>11105400.0</td>\n",
              "    </tr>\n",
              "    <tr>\n",
              "      <th>2</th>\n",
              "      <td>95.87</td>\n",
              "      <td>95.94</td>\n",
              "      <td>93.50</td>\n",
              "      <td>94.37</td>\n",
              "      <td>10369100.0</td>\n",
              "    </tr>\n",
              "    <tr>\n",
              "      <th>3</th>\n",
              "      <td>94.44</td>\n",
              "      <td>94.44</td>\n",
              "      <td>90.00</td>\n",
              "      <td>91.56</td>\n",
              "      <td>16697600.0</td>\n",
              "    </tr>\n",
              "    <tr>\n",
              "      <th>4</th>\n",
              "      <td>92.75</td>\n",
              "      <td>92.94</td>\n",
              "      <td>90.19</td>\n",
              "      <td>90.25</td>\n",
              "      <td>13737600.0</td>\n",
              "    </tr>\n",
              "  </tbody>\n",
              "</table>\n",
              "</div>"
            ],
            "text/plain": [
              "   daily open  daily high  daily low  daily close  daily volume\n",
              "0       98.50       98.81      96.37        96.75     9551800.0\n",
              "1       96.75       96.81      93.69        94.81    11105400.0\n",
              "2       95.87       95.94      93.50        94.37    10369100.0\n",
              "3       94.44       94.44      90.00        91.56    16697600.0\n",
              "4       92.75       92.94      90.19        90.25    13737600.0"
            ]
          },
          "metadata": {
            "tags": []
          },
          "execution_count": 2
        }
      ]
    },
    {
      "cell_type": "markdown",
      "metadata": {
        "id": "sFbytPjcJynz"
      },
      "source": [
        "#Ticker List Upload"
      ]
    },
    {
      "cell_type": "code",
      "metadata": {
        "id": "uJDCiB5yVTgG",
        "colab": {
          "resources": {
            "http://localhost:8080/nbextensions/google.colab/files.js": {
              "data": "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",
              "ok": true,
              "headers": [
                [
                  "content-type",
                  "application/javascript"
                ]
              ],
              "status": 200,
              "status_text": ""
            }
          },
          "base_uri": "https://localhost:8080/",
          "height": 73
        },
        "outputId": "942dd490-b954-4f32-b8fd-710e24351b67"
      },
      "source": [
        "from google.colab import files\n",
        "uploaded = files.upload()"
      ],
      "execution_count": 3,
      "outputs": [
        {
          "output_type": "display_data",
          "data": {
            "text/html": [
              "\n",
              "     <input type=\"file\" id=\"files-79a4d0a3-8695-4d02-802c-041847f9c1ba\" name=\"files[]\" multiple disabled\n",
              "        style=\"border:none\" />\n",
              "     <output id=\"result-79a4d0a3-8695-4d02-802c-041847f9c1ba\">\n",
              "      Upload widget is only available when the cell has been executed in the\n",
              "      current browser session. Please rerun this cell to enable.\n",
              "      </output>\n",
              "      <script src=\"/nbextensions/google.colab/files.js\"></script> "
            ],
            "text/plain": [
              "<IPython.core.display.HTML object>"
            ]
          },
          "metadata": {
            "tags": []
          }
        },
        {
          "output_type": "stream",
          "text": [
            "Saving Ticker_List.csv to Ticker_List (1).csv\n"
          ],
          "name": "stdout"
        }
      ]
    },
    {
      "cell_type": "code",
      "metadata": {
        "id": "DkRmI_ZiVUpP",
        "colab": {
          "base_uri": "https://localhost:8080/",
          "height": 35
        },
        "outputId": "8568a91d-dc6a-4fd4-b9fa-28138e802247"
      },
      "source": [
        "ticker_df = pd.read_csv('Ticker_List.csv')\n",
        "tickers = [str(ticker_df.iloc[i, 0]) for i in range(ticker_df.shape[0])]\n",
        "tickers[0]"
      ],
      "execution_count": 4,
      "outputs": [
        {
          "output_type": "execute_result",
          "data": {
            "application/vnd.google.colaboratory.intrinsic+json": {
              "type": "string"
            },
            "text/plain": [
              "'AAPL'"
            ]
          },
          "metadata": {
            "tags": []
          },
          "execution_count": 4
        }
      ]
    },
    {
      "cell_type": "code",
      "metadata": {
        "id": "3rR3qjDJy_Gd"
      },
      "source": [
        "def calc_returns(df, column_name):\n",
        "  list_of_returns = [0] + [((df.loc[i, column_name]/df.loc[i-1,column_name])-1) for i in range(1, df.shape[0])]\n",
        "  dataframe = pd.DataFrame(list_of_returns, columns = ['Returns'])\n",
        "  return dataframe\n",
        "\n",
        "def rolling_stdev(dataframe, column_name, window_size):\n",
        "  dataframe = calc_returns(dataframe, column_name)\n",
        "  dataframe = dataframe.rename(columns = {'Returns': f'{column_name}'})\n",
        "  list_of_stdevs = [np.std(dataframe.loc[i:i+window_size, column_name]) for i in range((dataframe.shape[0]-window_size))]\n",
        "  stdevs = pd.DataFrame(list_of_stdevs, columns = ([f'{window_size} day moving standard deviation']))\n",
        "  return stdevs\n",
        "\n",
        "import numpy as np\n",
        "\n",
        "def growth_function(x, epsilon = 1e-15):\n",
        "  y = np.sqrt(1 / (1-x + epsilon)) - 1\n",
        "  return y\n",
        "\n",
        "def correlation_calculator(explanatory, response, window_size):\n",
        "  correlations = [(np.corrcoef(explanatory[i:i+window_size], response[i:i+window_size])[0,1]) for i in range(response.shape[0]- window_size)]\n",
        "  sharpe = ((np.abs(np.mean(correlations))) / np.std(correlations)) + growth_function(np.abs(np.mean(correlations)))\n",
        "  return sharpe\n",
        "\n",
        "def covariance_calculator(explanatory, response, window_size):\n",
        "  covariance = [(np.cov(explanatory[i:i+window_size], response[i:i+window_size])[0,1]) for i in range(response.shape[0]- window_size)]\n",
        "  sharpe = ((np.abs(np.mean(covariance))) / np.std(covariance)) + growth_function(np.abs(np.mean(covariance)))\n",
        "  return sharpe\n",
        "\n",
        "# indicator = 'AD'\n",
        "# ticker = 'IBM'\n",
        "# time_interval = 'daily'\n",
        "# window_size = 30\n",
        "# series_type = 'close'"
      ],
      "execution_count": 7,
      "outputs": []
    },
    {
      "cell_type": "markdown",
      "metadata": {
        "id": "xeACT8mUpO5i"
      },
      "source": [
        "# Data Preprocessing\n",
        "\n",
        "These are a list of functions that are used for preprocessing the dataset. The first one is not used (shift_dataset), as that is used to calculate autocorrelation or autocovariance between features and prices. \n",
        "\n",
        "The windowed dataset function creates a tf.Dataset from the input series, creates windowed inputs and labels where the inputs are the size of the trailing window of prices and the labels are the five day predictions. After this is created, the dataset is then shuffled to mitigate sequence bias and batched for model training.\n",
        "\n",
        "The prep data function is used to create the training, validation, and test sets to pass into the windowed dataset function. "
      ]
    },
    {
      "cell_type": "code",
      "metadata": {
        "id": "tiuTyKDiWCCl"
      },
      "source": [
        "#Prepare dataset function\n",
        "\n",
        "def shift_dataset(explanatory_df, response_df, shift_amt, e_column_name, r_column_name):\n",
        "  X = [0 for i in range(shift_amt)] + [explanatory_df.loc[i, e_column_name] for i in range(explanatory_df.shape[0])]\n",
        "  Y = [response_df.loc[i, r_column_name] for i in range(response_df.shape[0])]\n",
        "  length_difference = len(X) - len(Y)\n",
        "  if length_difference > 0:\n",
        "    X = X[length_difference:]\n",
        "  else:\n",
        "    ld = length_difference * -1\n",
        "    Y = Y[ld:]\n",
        "  dataframe = pd.DataFrame(data = Y, columns = [r_column_name])\n",
        "  dataframe.loc[:, e_column_name] = X\n",
        "  return dataframe\n",
        "\n",
        "def windowed_dataset(series, window_size, batch_size, shuffle_buffer, prediction_window):\n",
        "  dataset = tf.data.Dataset.from_tensor_slices(series)\n",
        "  dataset = dataset.window(window_size + prediction_window, shift=1, drop_remainder=True)\n",
        "  dataset = dataset.flat_map(lambda window: window.batch(window_size + prediction_window))\n",
        "  dataset = dataset.shuffle(shuffle_buffer).map(lambda window: (window[:-prediction_window], window[-prediction_window:, 0]))\n",
        "  dataset = dataset.batch(batch_size).prefetch(1)\n",
        "  return dataset\n",
        "\n",
        "def prep_data(dataset, train_split, valid_split, test_split, shuffle_buffer_size, window_size, batch_size, prediction_window):\n",
        "  #split training data into train, validation and test sets\n",
        "\n",
        "  train_time = int(dataset.shape[0] * train_split)\n",
        "  test_time = int(dataset.shape[0] * (1-test_split))\n",
        "\n",
        "  data = np.array(dataset)\n",
        "  data_x_train = data[:train_time, :]\n",
        "  data_x_valid = data[train_time: test_time, :]\n",
        "  data_x_test = data[test_time:, :]\n",
        "\n",
        "  data_x_train, data_x_valid, data_x_test = np.asarray(data_x_train).astype(np.float32), np.asarray(data_x_valid).astype(np.float32), np.asarray(data_x_test).astype(np.float32)\n",
        "\n",
        "  print(data_x_train.shape)\n",
        "  print(data_x_valid.shape)\n",
        "  print(data_x_test.shape)\n",
        "  print(type(data_x_test))\n",
        "\n",
        "  train_set, valid_set, test_set = windowed_dataset(data_x_train, window_size, batch_size, shuffle_buffer_size, prediction_window), windowed_dataset(data_x_valid, window_size, batch_size, shuffle_buffer_size, prediction_window), windowed_dataset(data_x_test, window_size, batch_size, shuffle_buffer_size, prediction_window) \n",
        "\n",
        "  return train_set, valid_set, test_set"
      ],
      "execution_count": 8,
      "outputs": []
    },
    {
      "cell_type": "markdown",
      "metadata": {
        "id": "6PxiSsM-mAxH"
      },
      "source": [
        "# Example of Grid Search\n",
        "\n",
        "I have performed hundreds of these tests on the feature space to see exactly which collection of features give the model the highest predictive power. There are n choose k different combinations of features that can be made, so this grid search approach only scratches the surface of possiblities. However, it has lead to the MACD signals being the best features to use for price prediction. This is in line with what most experienced traders would suggest."
      ]
    },
    {
      "cell_type": "code",
      "metadata": {
        "id": "2YqmuIs6k8ij"
      },
      "source": [
        "list_of_indicators = ['SMA', 'EMA', 'WMA', 'DEMA', 'TEMA', 'TRIMA', 'KAMA', 'MAMA', 'VWAP', 'T3', 'MACD', 'MACDEXT', 'STOCH', 'STOCHF', 'RSI', 'STOCHRSI', 'WILLR', 'ADX', 'ADXR', 'APO', 'PPO', 'MOM', 'BOP', 'CCI', 'CMO', 'ROC', 'ROCR', 'AROON', 'AROONOSC', 'MFI', 'TRIX', 'ULTOSC', 'DX', 'MINUS_DI', 'PLUS_DI', 'MINUS_DM', 'PLUS_DM', 'BBANDS', 'MIDPOINT', 'MIDPRICE', 'SAR', 'TRANGE', 'ATR', 'NATR', 'AD', 'ADOSC', 'OBV', 'HT_TRENDLINE', 'HT_SINE', 'HT_TRENDMODE', 'HT_DCPERIOD', 'HT_DCPHASE', 'HT_PHASOR']"
      ],
      "execution_count": 9,
      "outputs": []
    },
    {
      "cell_type": "code",
      "metadata": {
        "id": "oTDCzcN2ueQs"
      },
      "source": [
        "for pair in indexes:\n",
        "  if pair[2][1] < 10:\n",
        "    print(f'This interval is a good interval in the feature space: {pair[0]} -- {pair[1]} with a test MAE = {pair[2][1]}')\n",
        "  else:\n",
        "    continue\n",
        "\n",
        "#recorded feature intervals worth noting: \n",
        "# (50-53, MAE = 6.79), (24-28, MAE = 7.2), (21-21, MAE = 5.5), (17-47, MAE = 6.8), (48-53, MAE = 6.53), (13-45, MAE = 7.16), (14-17, MACD's), \n",
        "#(29-43), (14-34), (25-49), (50-53), (24-28), (24-36), (32-52), (21), (17-47), (31-54), (48-53), (30-40), (13-45), (32-41), (14-17), (1,5)"
      ],
      "execution_count": null,
      "outputs": []
    },
    {
      "cell_type": "code",
      "metadata": {
        "id": "t28OOwOPY1YW",
        "colab": {
          "base_uri": "https://localhost:8080/",
          "height": 201
        },
        "outputId": "6fe5dcc0-98f6-4718-826e-1736730dfd31"
      },
      "source": [
        "#Load data for model \n",
        "import time\n",
        "\n",
        "base_url = 'https://www.alphavantage.co/query?'\n",
        "indicator = list_of_indicators[1]\n",
        "ticker = 'IBM'\n",
        "time_interval = 'daily'\n",
        "indicator_window_size = 1\n",
        "series_type = 'close'\n",
        "shuffle_buffer_size = 1000\n",
        "window_size = 10\n",
        "batch_size = 16\n",
        "prediction_window = 5\n",
        "prices = ts.get_time_series_data(function = 'TIME_SERIES_DAILY', symbol = ticker, interval = time_interval, api_key = api_key)\n",
        "dataset = prices['daily close']\n",
        "\n",
        "indicators = ['MACD']\n",
        "\n",
        "for indicator in indicators:\n",
        "  data = ti.get_technical_indicator(ticker, api_key, time_interval, window_size = indicator_window_size, series_type = series_type, indicator = indicator)\n",
        "  dataset = pd.concat([dataset, data], axis = 1, sort = False)\n",
        "  time.sleep(15)\n",
        "\n",
        "dataset.head()"
      ],
      "execution_count": 12,
      "outputs": [
        {
          "output_type": "execute_result",
          "data": {
            "text/html": [
              "<div>\n",
              "<style scoped>\n",
              "    .dataframe tbody tr th:only-of-type {\n",
              "        vertical-align: middle;\n",
              "    }\n",
              "\n",
              "    .dataframe tbody tr th {\n",
              "        vertical-align: top;\n",
              "    }\n",
              "\n",
              "    .dataframe thead th {\n",
              "        text-align: right;\n",
              "    }\n",
              "</style>\n",
              "<table border=\"1\" class=\"dataframe\">\n",
              "  <thead>\n",
              "    <tr style=\"text-align: right;\">\n",
              "      <th></th>\n",
              "      <th>daily close</th>\n",
              "      <th>(MACD,)</th>\n",
              "      <th>(MACD_Hist,)</th>\n",
              "      <th>(MACD_Signal,)</th>\n",
              "    </tr>\n",
              "  </thead>\n",
              "  <tbody>\n",
              "    <tr>\n",
              "      <th>0</th>\n",
              "      <td>96.75</td>\n",
              "      <td>2.7052</td>\n",
              "      <td>-1.0051</td>\n",
              "      <td>3.7102</td>\n",
              "    </tr>\n",
              "    <tr>\n",
              "      <th>1</th>\n",
              "      <td>94.81</td>\n",
              "      <td>2.5005</td>\n",
              "      <td>-0.9678</td>\n",
              "      <td>3.4683</td>\n",
              "    </tr>\n",
              "    <tr>\n",
              "      <th>2</th>\n",
              "      <td>94.37</td>\n",
              "      <td>2.3578</td>\n",
              "      <td>-0.8884</td>\n",
              "      <td>3.2462</td>\n",
              "    </tr>\n",
              "    <tr>\n",
              "      <th>3</th>\n",
              "      <td>91.56</td>\n",
              "      <td>2.1129</td>\n",
              "      <td>-0.9066</td>\n",
              "      <td>3.0195</td>\n",
              "    </tr>\n",
              "    <tr>\n",
              "      <th>4</th>\n",
              "      <td>90.25</td>\n",
              "      <td>1.9280</td>\n",
              "      <td>-0.8732</td>\n",
              "      <td>2.8012</td>\n",
              "    </tr>\n",
              "  </tbody>\n",
              "</table>\n",
              "</div>"
            ],
            "text/plain": [
              "   daily close  (MACD,)  (MACD_Hist,)  (MACD_Signal,)\n",
              "0        96.75   2.7052       -1.0051          3.7102\n",
              "1        94.81   2.5005       -0.9678          3.4683\n",
              "2        94.37   2.3578       -0.8884          3.2462\n",
              "3        91.56   2.1129       -0.9066          3.0195\n",
              "4        90.25   1.9280       -0.8732          2.8012"
            ]
          },
          "metadata": {
            "tags": []
          },
          "execution_count": 12
        }
      ]
    },
    {
      "cell_type": "code",
      "metadata": {
        "colab": {
          "base_uri": "https://localhost:8080/",
          "height": 354
        },
        "id": "zkOdeuImOJdb",
        "outputId": "0c78b34c-5abb-4b0e-d214-1b37cb0756b8"
      },
      "source": [
        "###Reverse the MACD signals\n",
        "new_data = np.zeros((dataset.shape[0], dataset.shape[1]))\n",
        "new_data[:,0] = dataset.iloc[:,0]\n",
        "for i in range(1, dataset.shape[0]):\n",
        "  new_data[i, 1:] = list(dataset.iloc[-i,1:])\n",
        "\n",
        "dataset = pd.DataFrame(new_data, columns = list(dataset.columns))\n",
        "dataset = dataset.iloc[34:, :]\n",
        "dataset.head(10)"
      ],
      "execution_count": 13,
      "outputs": [
        {
          "output_type": "execute_result",
          "data": {
            "text/html": [
              "<div>\n",
              "<style scoped>\n",
              "    .dataframe tbody tr th:only-of-type {\n",
              "        vertical-align: middle;\n",
              "    }\n",
              "\n",
              "    .dataframe tbody tr th {\n",
              "        vertical-align: top;\n",
              "    }\n",
              "\n",
              "    .dataframe thead th {\n",
              "        text-align: right;\n",
              "    }\n",
              "</style>\n",
              "<table border=\"1\" class=\"dataframe\">\n",
              "  <thead>\n",
              "    <tr style=\"text-align: right;\">\n",
              "      <th></th>\n",
              "      <th>daily close</th>\n",
              "      <th>(MACD,)</th>\n",
              "      <th>(MACD_Hist,)</th>\n",
              "      <th>(MACD_Signal,)</th>\n",
              "    </tr>\n",
              "  </thead>\n",
              "  <tbody>\n",
              "    <tr>\n",
              "      <th>34</th>\n",
              "      <td>109.20</td>\n",
              "      <td>-0.1501</td>\n",
              "      <td>0.3592</td>\n",
              "      <td>-0.5093</td>\n",
              "    </tr>\n",
              "    <tr>\n",
              "      <th>35</th>\n",
              "      <td>110.12</td>\n",
              "      <td>-0.2950</td>\n",
              "      <td>0.3041</td>\n",
              "      <td>-0.5991</td>\n",
              "    </tr>\n",
              "    <tr>\n",
              "      <th>36</th>\n",
              "      <td>108.00</td>\n",
              "      <td>-0.5510</td>\n",
              "      <td>0.1241</td>\n",
              "      <td>-0.6751</td>\n",
              "    </tr>\n",
              "    <tr>\n",
              "      <th>37</th>\n",
              "      <td>108.62</td>\n",
              "      <td>-0.6152</td>\n",
              "      <td>0.0910</td>\n",
              "      <td>-0.7061</td>\n",
              "    </tr>\n",
              "    <tr>\n",
              "      <th>38</th>\n",
              "      <td>109.75</td>\n",
              "      <td>-0.7034</td>\n",
              "      <td>0.0255</td>\n",
              "      <td>-0.7289</td>\n",
              "    </tr>\n",
              "    <tr>\n",
              "      <th>39</th>\n",
              "      <td>109.81</td>\n",
              "      <td>-0.6154</td>\n",
              "      <td>0.1199</td>\n",
              "      <td>-0.7352</td>\n",
              "    </tr>\n",
              "    <tr>\n",
              "      <th>40</th>\n",
              "      <td>109.00</td>\n",
              "      <td>-0.6712</td>\n",
              "      <td>0.0940</td>\n",
              "      <td>-0.7652</td>\n",
              "    </tr>\n",
              "    <tr>\n",
              "      <th>41</th>\n",
              "      <td>108.75</td>\n",
              "      <td>-0.6554</td>\n",
              "      <td>0.1333</td>\n",
              "      <td>-0.7887</td>\n",
              "    </tr>\n",
              "    <tr>\n",
              "      <th>42</th>\n",
              "      <td>107.87</td>\n",
              "      <td>-0.6358</td>\n",
              "      <td>0.1862</td>\n",
              "      <td>-0.8220</td>\n",
              "    </tr>\n",
              "    <tr>\n",
              "      <th>43</th>\n",
              "      <td>116.00</td>\n",
              "      <td>-0.6759</td>\n",
              "      <td>0.1926</td>\n",
              "      <td>-0.8686</td>\n",
              "    </tr>\n",
              "  </tbody>\n",
              "</table>\n",
              "</div>"
            ],
            "text/plain": [
              "    daily close  (MACD,)  (MACD_Hist,)  (MACD_Signal,)\n",
              "34       109.20  -0.1501        0.3592         -0.5093\n",
              "35       110.12  -0.2950        0.3041         -0.5991\n",
              "36       108.00  -0.5510        0.1241         -0.6751\n",
              "37       108.62  -0.6152        0.0910         -0.7061\n",
              "38       109.75  -0.7034        0.0255         -0.7289\n",
              "39       109.81  -0.6154        0.1199         -0.7352\n",
              "40       109.00  -0.6712        0.0940         -0.7652\n",
              "41       108.75  -0.6554        0.1333         -0.7887\n",
              "42       107.87  -0.6358        0.1862         -0.8220\n",
              "43       116.00  -0.6759        0.1926         -0.8686"
            ]
          },
          "metadata": {
            "tags": []
          },
          "execution_count": 13
        }
      ]
    },
    {
      "cell_type": "code",
      "metadata": {
        "id": "mlbp4td60cqw",
        "colab": {
          "base_uri": "https://localhost:8080/",
          "height": 270
        },
        "outputId": "b741164f-302c-48f7-b5aa-e02072fd98e6"
      },
      "source": [
        "train_split = 0.8\n",
        "valid_split = 0.1\n",
        "test_split = 0.1\n",
        "shuffle_buffer_size = 1000\n",
        "window_size = 10\n",
        "batch_size = 32\n",
        "prediction_window = 5\n",
        "\n",
        "#(29-43, MAE=6.159), (14-34, MAE = 3.5), (25-49, MAE =12), (50-53, MAE=3.75), (24-28, MAE = 3.54), (24-36, MAE=7.5), (32-52, MAE = 13.6), (21, MAE = 6.2), (17-47, MAE = 7.1), (31-54, MAE = 14.85), (48-53, MAE = 4.09), \n",
        "#(30-40, MAE = 7.67), (13-45, MAE = 4.48), (32-41, MAE = 4.63), (14-17, MAE = 3.54), (1,5, MAE = 5.78)\n",
        "\n",
        "#FINAL ROUND:\n",
        "#14-34(mae=3.22), 50-53(mae = 4.0), 24-28(mae = 3.89), 48-53(mae = 6.92), 13-45(mae = 3.55), 32-41(mae =4.47 ), 14-17(mae = 2.67)\n",
        "\n",
        "train_set, valid_set, test_set = prep_data(dataset, train_split, valid_split, test_split, shuffle_buffer_size, window_size = window_size, batch_size = batch_size, prediction_window = prediction_window)\n",
        "dataset.head()"
      ],
      "execution_count": 14,
      "outputs": [
        {
          "output_type": "stream",
          "text": [
            "(4264, 4)\n",
            "(533, 4)\n",
            "(533, 4)\n",
            "<class 'numpy.ndarray'>\n"
          ],
          "name": "stdout"
        },
        {
          "output_type": "execute_result",
          "data": {
            "text/html": [
              "<div>\n",
              "<style scoped>\n",
              "    .dataframe tbody tr th:only-of-type {\n",
              "        vertical-align: middle;\n",
              "    }\n",
              "\n",
              "    .dataframe tbody tr th {\n",
              "        vertical-align: top;\n",
              "    }\n",
              "\n",
              "    .dataframe thead th {\n",
              "        text-align: right;\n",
              "    }\n",
              "</style>\n",
              "<table border=\"1\" class=\"dataframe\">\n",
              "  <thead>\n",
              "    <tr style=\"text-align: right;\">\n",
              "      <th></th>\n",
              "      <th>daily close</th>\n",
              "      <th>(MACD,)</th>\n",
              "      <th>(MACD_Hist,)</th>\n",
              "      <th>(MACD_Signal,)</th>\n",
              "    </tr>\n",
              "  </thead>\n",
              "  <tbody>\n",
              "    <tr>\n",
              "      <th>34</th>\n",
              "      <td>109.20</td>\n",
              "      <td>-0.1501</td>\n",
              "      <td>0.3592</td>\n",
              "      <td>-0.5093</td>\n",
              "    </tr>\n",
              "    <tr>\n",
              "      <th>35</th>\n",
              "      <td>110.12</td>\n",
              "      <td>-0.2950</td>\n",
              "      <td>0.3041</td>\n",
              "      <td>-0.5991</td>\n",
              "    </tr>\n",
              "    <tr>\n",
              "      <th>36</th>\n",
              "      <td>108.00</td>\n",
              "      <td>-0.5510</td>\n",
              "      <td>0.1241</td>\n",
              "      <td>-0.6751</td>\n",
              "    </tr>\n",
              "    <tr>\n",
              "      <th>37</th>\n",
              "      <td>108.62</td>\n",
              "      <td>-0.6152</td>\n",
              "      <td>0.0910</td>\n",
              "      <td>-0.7061</td>\n",
              "    </tr>\n",
              "    <tr>\n",
              "      <th>38</th>\n",
              "      <td>109.75</td>\n",
              "      <td>-0.7034</td>\n",
              "      <td>0.0255</td>\n",
              "      <td>-0.7289</td>\n",
              "    </tr>\n",
              "  </tbody>\n",
              "</table>\n",
              "</div>"
            ],
            "text/plain": [
              "    daily close  (MACD,)  (MACD_Hist,)  (MACD_Signal,)\n",
              "34       109.20  -0.1501        0.3592         -0.5093\n",
              "35       110.12  -0.2950        0.3041         -0.5991\n",
              "36       108.00  -0.5510        0.1241         -0.6751\n",
              "37       108.62  -0.6152        0.0910         -0.7061\n",
              "38       109.75  -0.7034        0.0255         -0.7289"
            ]
          },
          "metadata": {
            "tags": []
          },
          "execution_count": 14
        }
      ]
    },
    {
      "cell_type": "code",
      "metadata": {
        "id": "EoxJ3RxqgfG-",
        "colab": {
          "base_uri": "https://localhost:8080/"
        },
        "outputId": "1ecabce1-771e-45ea-a086-4f3cc50eb215"
      },
      "source": [
        "train_set_example = train_set.take(1)\n",
        "for i_x,i_y in train_set_example:\n",
        "  print(\"m_x = \", i_x.numpy().shape)\n",
        "  print(\"m_y = \", i_y.numpy().shape)\n",
        "\n",
        "val_set_example = valid_set.take(1)\n",
        "for i_x,i_y in val_set_example:\n",
        "  print(\"m_x = \", i_x.numpy().shape)\n",
        "  print(\"m_y = \", i_y.numpy().shape)\n",
        "\n",
        "test_set_example = test_set.take(1)\n",
        "for i_z, i_m in test_set_example:\n",
        "  print(\"m_x = \", i_z.numpy().shape)\n",
        "  print(\"m_y = \", i_m.numpy().shape)\n",
        "  print(i_m)"
      ],
      "execution_count": 15,
      "outputs": [
        {
          "output_type": "stream",
          "text": [
            "m_x =  (32, 10, 4)\n",
            "m_y =  (32, 5)\n",
            "m_x =  (32, 10, 4)\n",
            "m_y =  (32, 5)\n",
            "m_x =  (32, 10, 4)\n",
            "m_y =  (32, 5)\n",
            "tf.Tensor(\n",
            "[[137.84 139.25 139.46 139.72 139.17]\n",
            " [114.16 111.9  114.77 114.04 115.53]\n",
            " [156.76 153.41 154.43 153.48 155.31]\n",
            " [121.76 125.54 124.53 124.9  124.89]\n",
            " [118.54 119.7  120.19 117.58 117.71]\n",
            " [134.42 134.1  135.19 135.55 136.32]\n",
            " [105.85 112.89 108.03 112.93 110.93]\n",
            " [122.47 120.08 119.11 120.54 119.44]\n",
            " [126.7  125.03 125.27 124.44 124.92]\n",
            " [135.04 133.   134.25 134.32 129.57]\n",
            " [125.85 123.39 123.61 123.9  124.69]\n",
            " [143.   142.11 134.26 134.09 132.58]\n",
            " [137.08 138.85 139.2  139.35 138.36]\n",
            " [134.22 129.55 127.73 117.81 124.77]\n",
            " [100.34  95.39  94.77 105.48 105.85]\n",
            " [114.04 115.53 117.91 117.2  114.5 ]\n",
            " [140.21 140.49 139.6  141.44 139.45]\n",
            " [139.92 141.1  143.3  143.   143.63]\n",
            " [128.67 127.33 125.79 126.21 124.47]\n",
            " [134.48 134.   134.4  134.31 134.52]\n",
            " [106.65 103.55 100.34  95.39  94.77]\n",
            " [115.06 115.76 116.   112.22 110.56]\n",
            " [128.9  134.22 129.55 127.73 117.81]\n",
            " [140.76 140.73 139.11 140.1  136.13]\n",
            " [135.59 134.48 134.   134.4  134.31]\n",
            " [139.2  138.43 137.88 136.98 135.36]\n",
            " [133.76 135.04 133.   134.25 134.32]\n",
            " [130.46 129.69 129.57 126.99 128.27]\n",
            " [122.59 120.26 115.73 116.95 116.98]\n",
            " [107.95  99.08 106.65 103.55 100.34]\n",
            " [147.25 140.76 140.73 139.11 140.1 ]\n",
            " [121.79 123.61 122.1  122.24 120.91]], shape=(32, 5), dtype=float32)\n"
          ],
          "name": "stdout"
        }
      ]
    },
    {
      "cell_type": "markdown",
      "metadata": {
        "id": "Tgvu9RTmn6z8"
      },
      "source": [
        "# Training the Model\n",
        "\n",
        "The model architecture is somewhat complicated in terms of what you would normally see with a recurrent neural network. The first layer is a Conv1D with 120 filters and a ReLU activation. As you can see the input shape is altered to be able to process multiple features or all of the columns of the input dataset. The next three sequentials are LSTM layers, followed by a dense layer and a 5 unit output layer for five prices.\n",
        "\n",
        "The model has a learning rate scheduler to implement weight decay, along with an early stop callback to evaluate the test data with the model parameters that produced the lowest validation loss throughout training.\n",
        "\n",
        "The metric used to evaluate accuracy was the MAE, I did this for interpretability. If the model's MAE for a five day output was, for example, 2.67, this means that it was wrong by $2.67 on average over it's five day prediction."
      ]
    },
    {
      "cell_type": "code",
      "metadata": {
        "id": "uQ9LuLylWQXZ",
        "colab": {
          "base_uri": "https://localhost:8080/"
        },
        "outputId": "e479532f-44ee-435f-ee5f-aee6bdb82212"
      },
      "source": [
        "class TSModel(tf.keras.Model):\n",
        "    def __init__(self):\n",
        "        super(TSModel, self).__init__()\n",
        "        self.conv1D = tf.keras.layers.Conv1D(filters=120, kernel_size=5, strides=1, padding=\"causal\", activation=\"relu\")\n",
        "        self.LSTM_256 = tf.keras.layers.LSTM(256, return_sequences=True)\n",
        "        self.LSTM_128 = tf.keras.layers.LSTM(128, return_sequences = True)\n",
        "        self.LSTM_64 = tf.keras.layers.LSTM(64)\n",
        "        self.dropout = tf.keras.layers.Dropout(0.2)\n",
        "        self.Dense = tf.keras.layers.Dense(256, activation = 'relu')\n",
        "        self.Dense_final = tf.keras.layers.Dense(5)\n",
        "        self.lambda_out = tf.keras.layers.Lambda(lambda x: x * 100)\n",
        "\n",
        "    def call(self, inputs):\n",
        "      x = self.conv1D(inputs)\n",
        "      x = self.LSTM_256(x)\n",
        "      x = self.LSTM_128(x)\n",
        "      x = self.LSTM_64(x)\n",
        "      x = self.dropout(x)\n",
        "      x = self.Dense(x)\n",
        "      x = self.Dense_final(x)\n",
        "      return self.lambda_out(x)\n",
        "\n",
        "##Instantiate the model:\n",
        "model = TSModel()\n",
        "\n",
        "###These are Tensorflow callbacks that allow for the learning rate decay and early stopping\n",
        "lr_schedule = tf.keras.callbacks.LearningRateScheduler(\n",
        "    lambda epoch: 1e-5 / 10**(epoch / 25))\n",
        "\n",
        "early_stop = tf.keras.callbacks.EarlyStopping(\n",
        "    monitor='val_loss', min_delta=0, patience=100, verbose=0, mode='auto',\n",
        "    baseline=None, restore_best_weights=True)\n",
        "\n",
        "##This is an optional tensorboard callback that a user can add that will visualize the\n",
        "##Distribution of model weights and biases along with the model loss/accuracy over \n",
        "##each epoch\n",
        "\n",
        "import datetime\n",
        "log_dir=\"logs/fit/\" + datetime.datetime.now().strftime(\"%Y%m%d-%H%M%S\")\n",
        "tensorboard_callback = tf.keras.callbacks.TensorBoard(\n",
        "    log_dir=log_dir, histogram_freq=1)\n",
        "\n",
        "optimizer = tf.keras.optimizers.SGD(lr=1e-5, momentum=0.9)\n",
        "model.compile(loss=tf.keras.losses.Huber(),\n",
        "              optimizer=optimizer,\n",
        "              metrics=[\"mae\"])\n",
        "\n",
        "history = model.fit(train_set, validation_data = valid_set,  epochs=25, callbacks= [early_stop, lr_schedule]) #Tensorboard is added to callbacks, remember dat\n",
        "model.evaluate(test_set)"
      ],
      "execution_count": 16,
      "outputs": [
        {
          "output_type": "stream",
          "text": [
            "Epoch 1/25\n",
            "133/133 [==============================] - 7s 16ms/step - loss: 57.1868 - mae: 57.6854 - val_loss: 13.9106 - val_mae: 14.4052\n",
            "Epoch 2/25\n",
            "133/133 [==============================] - 1s 10ms/step - loss: 28.8429 - mae: 29.3386 - val_loss: 12.4378 - val_mae: 12.9328\n",
            "Epoch 3/25\n",
            "133/133 [==============================] - 1s 9ms/step - loss: 25.8995 - mae: 26.3955 - val_loss: 8.9987 - val_mae: 9.4882\n",
            "Epoch 4/25\n",
            "133/133 [==============================] - 1s 9ms/step - loss: 17.8922 - mae: 18.3860 - val_loss: 5.2129 - val_mae: 5.6918\n",
            "Epoch 5/25\n",
            "133/133 [==============================] - 1s 10ms/step - loss: 8.2109 - mae: 8.6984 - val_loss: 4.4590 - val_mae: 4.9329\n",
            "Epoch 6/25\n",
            "133/133 [==============================] - 1s 10ms/step - loss: 7.5985 - mae: 8.0845 - val_loss: 8.9912 - val_mae: 9.4873\n",
            "Epoch 7/25\n",
            "133/133 [==============================] - 1s 10ms/step - loss: 7.0541 - mae: 7.5382 - val_loss: 4.5599 - val_mae: 5.0324\n",
            "Epoch 8/25\n",
            "133/133 [==============================] - 1s 10ms/step - loss: 6.2394 - mae: 6.7230 - val_loss: 5.1485 - val_mae: 5.6311\n",
            "Epoch 9/25\n",
            "133/133 [==============================] - 1s 10ms/step - loss: 6.0828 - mae: 6.5657 - val_loss: 4.9828 - val_mae: 5.4715\n",
            "Epoch 10/25\n",
            "133/133 [==============================] - 1s 10ms/step - loss: 5.9679 - mae: 6.4500 - val_loss: 4.5923 - val_mae: 5.0723\n",
            "Epoch 11/25\n",
            "133/133 [==============================] - 1s 10ms/step - loss: 5.6500 - mae: 6.1311 - val_loss: 5.1134 - val_mae: 5.6020\n",
            "Epoch 12/25\n",
            "133/133 [==============================] - 1s 10ms/step - loss: 5.6659 - mae: 6.1474 - val_loss: 4.3515 - val_mae: 4.8364\n",
            "Epoch 13/25\n",
            "133/133 [==============================] - 1s 10ms/step - loss: 5.2170 - mae: 5.6968 - val_loss: 3.5619 - val_mae: 4.0280\n",
            "Epoch 14/25\n",
            "133/133 [==============================] - 1s 10ms/step - loss: 5.1433 - mae: 5.6224 - val_loss: 3.0299 - val_mae: 3.4896\n",
            "Epoch 15/25\n",
            "133/133 [==============================] - 1s 10ms/step - loss: 5.0154 - mae: 5.4952 - val_loss: 4.0945 - val_mae: 4.5784\n",
            "Epoch 16/25\n",
            "133/133 [==============================] - 1s 10ms/step - loss: 4.9947 - mae: 5.4731 - val_loss: 2.9800 - val_mae: 3.4460\n",
            "Epoch 17/25\n",
            "133/133 [==============================] - 1s 10ms/step - loss: 4.7993 - mae: 5.2770 - val_loss: 2.8228 - val_mae: 3.2811\n",
            "Epoch 18/25\n",
            "133/133 [==============================] - 1s 10ms/step - loss: 4.6994 - mae: 5.1751 - val_loss: 4.5838 - val_mae: 5.0719\n",
            "Epoch 19/25\n",
            "133/133 [==============================] - 1s 9ms/step - loss: 4.5722 - mae: 5.0468 - val_loss: 3.5401 - val_mae: 4.0176\n",
            "Epoch 20/25\n",
            "133/133 [==============================] - 1s 9ms/step - loss: 4.6945 - mae: 5.1708 - val_loss: 3.4987 - val_mae: 3.9752\n",
            "Epoch 21/25\n",
            "133/133 [==============================] - 1s 10ms/step - loss: 4.5986 - mae: 5.0751 - val_loss: 2.7724 - val_mae: 3.2305\n",
            "Epoch 22/25\n",
            "133/133 [==============================] - 1s 10ms/step - loss: 4.2524 - mae: 4.7274 - val_loss: 4.2987 - val_mae: 4.7853\n",
            "Epoch 23/25\n",
            "133/133 [==============================] - 1s 10ms/step - loss: 4.4083 - mae: 4.8834 - val_loss: 2.7999 - val_mae: 3.2613\n",
            "Epoch 24/25\n",
            "133/133 [==============================] - 1s 10ms/step - loss: 4.4821 - mae: 4.9569 - val_loss: 2.7182 - val_mae: 3.1785\n",
            "Epoch 25/25\n",
            "133/133 [==============================] - 1s 9ms/step - loss: 4.2334 - mae: 4.7078 - val_loss: 2.7610 - val_mae: 3.2171\n",
            "17/17 [==============================] - 0s 5ms/step - loss: 3.3191 - mae: 3.7821\n"
          ],
          "name": "stdout"
        },
        {
          "output_type": "execute_result",
          "data": {
            "text/plain": [
              "[3.3190808296203613, 3.78214693069458]"
            ]
          },
          "metadata": {
            "tags": []
          },
          "execution_count": 16
        }
      ]
    },
    {
      "cell_type": "code",
      "metadata": {
        "id": "jTAWeWzDw8L8",
        "colab": {
          "base_uri": "https://localhost:8080/"
        },
        "outputId": "78f1ebda-5be0-46a2-ff85-5ebbb4cebb97"
      },
      "source": [
        "history = model.fit(train_set, validation_data = valid_set,  epochs=15, callbacks= [early_stop, lr_schedule]) #Tensorboard is added to callbacks, remember dat\n",
        "model.evaluate(test_set)"
      ],
      "execution_count": 17,
      "outputs": [
        {
          "output_type": "stream",
          "text": [
            "Epoch 1/15\n",
            "133/133 [==============================] - 1s 10ms/step - loss: 5.9422 - mae: 6.4239 - val_loss: 7.8440 - val_mae: 8.3411\n",
            "Epoch 2/15\n",
            "133/133 [==============================] - 1s 10ms/step - loss: 6.1848 - mae: 6.6661 - val_loss: 3.3851 - val_mae: 3.8569\n",
            "Epoch 3/15\n",
            "133/133 [==============================] - 1s 10ms/step - loss: 5.4252 - mae: 5.9031 - val_loss: 3.1688 - val_mae: 3.6265\n",
            "Epoch 4/15\n",
            "133/133 [==============================] - 1s 10ms/step - loss: 5.5902 - mae: 6.0697 - val_loss: 7.4734 - val_mae: 7.9659\n",
            "Epoch 5/15\n",
            "133/133 [==============================] - 1s 10ms/step - loss: 5.6732 - mae: 6.1533 - val_loss: 9.3908 - val_mae: 9.8880\n",
            "Epoch 6/15\n",
            "133/133 [==============================] - 1s 10ms/step - loss: 5.0318 - mae: 5.5081 - val_loss: 2.9579 - val_mae: 3.4210\n",
            "Epoch 7/15\n",
            "133/133 [==============================] - 1s 9ms/step - loss: 4.8150 - mae: 5.2912 - val_loss: 4.2336 - val_mae: 4.7186\n",
            "Epoch 8/15\n",
            "133/133 [==============================] - 1s 10ms/step - loss: 4.9241 - mae: 5.4002 - val_loss: 2.9581 - val_mae: 3.4293\n",
            "Epoch 9/15\n",
            "133/133 [==============================] - 1s 10ms/step - loss: 4.7315 - mae: 5.2071 - val_loss: 3.3459 - val_mae: 3.8212\n",
            "Epoch 10/15\n",
            "133/133 [==============================] - 1s 10ms/step - loss: 4.4704 - mae: 4.9439 - val_loss: 3.5013 - val_mae: 3.9751\n",
            "Epoch 11/15\n",
            "133/133 [==============================] - 1s 9ms/step - loss: 4.5203 - mae: 4.9943 - val_loss: 2.9062 - val_mae: 3.3756\n",
            "Epoch 12/15\n",
            "133/133 [==============================] - 1s 10ms/step - loss: 4.4765 - mae: 4.9493 - val_loss: 5.7787 - val_mae: 6.2707\n",
            "Epoch 13/15\n",
            "133/133 [==============================] - 1s 10ms/step - loss: 4.2967 - mae: 4.7702 - val_loss: 2.6937 - val_mae: 3.1488\n",
            "Epoch 14/15\n",
            "133/133 [==============================] - 1s 10ms/step - loss: 4.1915 - mae: 4.6619 - val_loss: 2.7933 - val_mae: 3.2598\n",
            "Epoch 15/15\n",
            "133/133 [==============================] - 1s 10ms/step - loss: 4.1575 - mae: 4.6278 - val_loss: 2.6169 - val_mae: 3.0762\n",
            "17/17 [==============================] - 0s 4ms/step - loss: 3.2429 - mae: 3.7114\n"
          ],
          "name": "stdout"
        },
        {
          "output_type": "execute_result",
          "data": {
            "text/plain": [
              "[3.2428953647613525, 3.7113912105560303]"
            ]
          },
          "metadata": {
            "tags": []
          },
          "execution_count": 17
        }
      ]
    },
    {
      "cell_type": "markdown",
      "metadata": {
        "id": "Ga1TXIAYnErC"
      },
      "source": [
        "# Plotting and Evaluating Predictions\n",
        "\n",
        "The below function plots the predictions made by the model. Majority of this chart should fit tightly with the actual price data because the model was trained on 80% of it! Nonetheless, the reader can see that the model fits tightly towards the end of the time series as well, so there are no worries in that department. The validation and test data make up 1,078 days of this graph."
      ]
    },
    {
      "cell_type": "code",
      "metadata": {
        "id": "mJHimj2J3yjQ",
        "colab": {
          "base_uri": "https://localhost:8080/",
          "height": 390
        },
        "outputId": "98256d44-ffa3-49d9-dd51-2ee291d2d817"
      },
      "source": [
        "window_size = 10\n",
        "forecast_horizon = 5\n",
        "\n",
        "def plot_predictions(dataset, window_size, forecast_horizon):\n",
        "  dataset = np.expand_dims(dataset, axis = 0)\n",
        "  predictions = [model.predict(dataset[:, i:i+window_size, :]) for i in range(0, dataset.shape[1]-window_size-forecast_horizon, forecast_horizon)]\n",
        "  list_of_predictions = []\n",
        "  for i in range(len(predictions)):\n",
        "    pred = predictions[i]\n",
        "    for val in list(pred[0]):\n",
        "      list_of_predictions.append(float(val))\n",
        "\n",
        "  #plot them predictions\n",
        "  plt.figure(figsize = (10,6))\n",
        "  plt.title(\"Plot of predictions vs actual prices\")\n",
        "  plt.plot(dataset[0, :, 0])\n",
        "  plt.plot(list_of_predictions)\n",
        "  plt.legend(['Actual', 'Predicted'])\n",
        "  plt.show()\n",
        "\n",
        "  return dataset\n",
        "\n",
        "dataset = plot_predictions(dataset, window_size, prediction_window)"
      ],
      "execution_count": 18,
      "outputs": [
        {
          "output_type": "display_data",
          "data": {
            "image/png": "[encoded data removed]",
            "text/plain": [
              "<Figure size 720x432 with 1 Axes>"
            ]
          },
          "metadata": {
            "tags": [],
            "needs_background": "light"
          }
        }
      ]
    },
    {
      "cell_type": "markdown",
      "metadata": {
        "id": "CciIgilbItWE"
      },
      "source": [
        "## Algorithm Testing\n",
        "Below is the algorithm built around the neural network. I kept it simple for this first test flight and I also made sure to use the last 500 timesteps of the dataset to make sure I was using test data only. \n",
        "\n",
        "The logic for the algorithm is simple and it uses the networks predictions for directional trading purposes only. Everyday (or timestep) the network will output a 5-day outlook (prediction) and if shows that the current price will increase, the algorithm purchases the stock. As soon as the network predicts that the price will go down, it sells the stock. "
      ]
    },
    {
      "cell_type": "code",
      "metadata": {
        "id": "wQ_9Quo2Qn8i",
        "colab": {
          "base_uri": "https://localhost:8080/"
        },
        "outputId": "60f0b190-b523-43a5-f8b9-b8ffc0b79bdb"
      },
      "source": [
        "##Algorithm test on last 500 days\n",
        "test_split = 0.1\n",
        "test_time = int(dataset.shape[1] * (1-test_split))\n",
        "df = dataset[:,test_time:,:]\n",
        "print(df.shape[1])\n",
        "\n",
        "def PL(df):\n",
        "  ##These are predictions for the last 500 days, excluding the last 34 because of NaN values.\n",
        "  actuals = [df[0,i,0] for i in range(window_size-1,df.shape[1])]\n",
        "  preds = [model.predict(df[:, i:i+window_size, :]) for i in range(0, df.shape[1]-window_size)]\n",
        "  profit = []\n",
        "  rets = []\n",
        "  buys = []\n",
        "  buy = 0\n",
        "  sell = 0\n",
        "  for j,pred in enumerate(preds):\n",
        "    p = list(pred[0])[-1]\n",
        "    # assert test_vals[j][0,-1,0] == actuals[j]\n",
        "    if ((buy == 0) and (p > actuals[j])):\n",
        "      buy = actuals[j]\n",
        "    else:\n",
        "      if ((buy != 0) and (p < actuals[j])):\n",
        "        sell = actuals[j]\n",
        "        profit.append(sell-buy)\n",
        "        rets.append((sell/buy)-1)\n",
        "        buys.append(buy)\n",
        "        buy, sell = 0,0\n",
        "      else:\n",
        "        continue\n",
        "  return profit, rets, buys\n",
        "\n",
        "profit, returns, init = PL(df)"
      ],
      "execution_count": 19,
      "outputs": [
        {
          "output_type": "stream",
          "text": [
            "533\n"
          ],
          "name": "stdout"
        }
      ]
    },
    {
      "cell_type": "code",
      "metadata": {
        "id": "-bJ48mr5WdLu",
        "colab": {
          "base_uri": "https://localhost:8080/"
        },
        "outputId": "ec9fca48-bc6f-4ca1-ed97-ab1d3e9fff68"
      },
      "source": [
        "init_inv = init[0]\n",
        "print(f'Initial Investment: {init_inv}')\n",
        "print(f'Total profit made: {np.sum(profit)}')\n",
        "print(f'Average Return: {np.mean(returns)} with Standard Deviation: {np.std(returns)}')\n",
        "print(f'Total ROI: {1 - (init_inv + np.sum(profit))/init_inv}')\n",
        "v_final = init_inv + np.sum(profit)\n",
        "v_init = init_inv\n",
        "print(v_final)\n",
        "print(v_init)\n",
        "years = (dataset.shape[0]-dataset.shape[0]*(1-test_split))/365\n",
        "print(f'CAGR: {((v_final/v_init)**(1/years))-1}')"
      ],
      "execution_count": 114,
      "outputs": [
        {
          "output_type": "stream",
          "text": [
            "Initial Investment: 135.55\n",
            "Total profit made: -4.640000000000057\n",
            "Average Return: 0.0006451472035535636 with Standard Deviation: 0.03956172967391178\n",
            "Total ROI: 0.03423091110291432\n",
            "130.90999999999997\n",
            "135.55\n",
            "CAGR: -1.0\n"
          ],
          "name": "stdout"
        }
      ]
    },
    {
      "cell_type": "code",
      "metadata": {
        "colab": {
          "base_uri": "https://localhost:8080/",
          "height": 624
        },
        "id": "x61nNGnv9To1",
        "outputId": "746abf18-1d6b-4c7b-c11c-c373f02f6b72"
      },
      "source": [
        "plt.figure(figsize = (12,10))\r\n",
        "plt.hist(returns)\r\n",
        "plt.title('Distribution of Returns during Backtesting')"
      ],
      "execution_count": 20,
      "outputs": [
        {
          "output_type": "execute_result",
          "data": {
            "text/plain": [
              "Text(0.5, 1.0, 'Distribution of Returns during Backtesting')"
            ]
          },
          "metadata": {
            "tags": []
          },
          "execution_count": 20
        },
        {
          "output_type": "display_data",
          "data": {
            "image/png": "[encoded data removed]",
            "text/plain": [
              "<Figure size 864x720 with 1 Axes>"
            ]
          },
          "metadata": {
            "tags": [],
            "needs_background": "light"
          }
        }
      ]
    },
    {
      "cell_type": "code",
      "metadata": {
        "id": "RVB3eX2X9XJj",
        "colab": {
          "base_uri": "https://localhost:8080/"
        },
        "outputId": "5823daad-b0bf-4ef1-e737-f5837d767547"
      },
      "source": [
        "###Reverse the MACD signals\r\n",
        "def Reverse(dataset):\r\n",
        "  new_data = np.zeros((dataset.shape[0], dataset.shape[1]))\r\n",
        "  new_data[:,0] = dataset.iloc[:,0]\r\n",
        "  for i in range(1, dataset.shape[0]):\r\n",
        "    new_data[i, 1:] = list(dataset.iloc[-i,1:])\r\n",
        "  return new_data\r\n",
        "\r\n",
        "# dataset = pd.DataFrame(new_data, columns = list(dataset.columns))\r\n",
        "\r\n",
        "indicator = 'MACD'\r\n",
        "time_interval = 'daily'\r\n",
        "indicator_window_size = 1\r\n",
        "series_type = 'close'\r\n",
        "api_key = 'OSY2ERYQE8M03Y05'\r\n",
        "shuffle_buffer_size = 1000\r\n",
        "window_size = 10\r\n",
        "prediction_window = 5\r\n",
        "train_split = 0.8\r\n",
        "valid_split = 0.1\r\n",
        "test_split = 0.1\r\n",
        "window_size = 10\r\n",
        "batch_size = 32\r\n",
        "\r\n",
        "\r\n",
        "def Test(ticker):\r\n",
        "  #data preprocessing:\r\n",
        "  start = time.time()\r\n",
        "  prices = ts.get_time_series_data(function = 'TIME_SERIES_DAILY', symbol = ticker, interval = time_interval, api_key = api_key)\r\n",
        "  dataset = prices['daily close']\r\n",
        "  MACD_d = ti.get_technical_indicator(ticker, api_key, time_interval, window_size = indicator_window_size, series_type = series_type, indicator = indicator)\r\n",
        "  MACD = Reverse(MACD_d)\r\n",
        "  MACD = pd.DataFrame(MACD, columns = list(MACD_d.columns))\r\n",
        "  dataset = pd.concat([dataset, MACD], axis = 1, sort = False)\r\n",
        "  print(f\"This is the dataset: {dataset.head()}\")\r\n",
        "  train_set, valid_set, test_set = prep_data(dataset, train_split, valid_split, test_split, shuffle_buffer_size, window_size = window_size, batch_size = batch_size, prediction_window = prediction_window)\r\n",
        "\r\n",
        "  #Train model\r\n",
        "  history = model.fit(train_set, validation_data = valid_set,  epochs=50, callbacks= [early_stop, lr_schedule], verbose = 0) #Tensorboard is added to callbacks, remember dat\r\n",
        "  test_acc = model.evaluate(test_set)\r\n",
        "  print(f\"Test Accuracy: {test_acc}\")\r\n",
        "\r\n",
        "  #Backtest\r\n",
        "  df = np.expand_dims(dataset, axis = 0) ##expand dimensions so data \r\n",
        "  test_time = int(dataset.shape[0] * (1-test_split))\r\n",
        "  df = df[:,test_time:,:]\r\n",
        "  print(f\"Testing this algorithm on the last {df.shape[1]} days.\")\r\n",
        "  profit, returns, init[0] = PL(df)\r\n",
        "  print(f\"Training and Testing took: {(time.time()-start)/60} minutes to complete.\")\r\n",
        "\r\n",
        "  ##Report\r\n",
        "  print(f'Initial Investment: {init}')\r\n",
        "  print(f'Total profit made: {np.sum(profit)}')\r\n",
        "  print(f'Average Return: {np.mean(returns)} with Standard Deviation: {np.std(returns)}')\r\n",
        "  print(f'Total ROI: {(init + np.sum(profit))/init}')\r\n",
        "  v_final = init + np.sum(profit)\r\n",
        "  v_init = init\r\n",
        "  years = df.shape[1]/365\r\n",
        "  CAGR = ((v_final/v_init)**(1/years))-1\r\n",
        "  SHARPE = np.mean(returns) / np.std(returns)\r\n",
        "  print(f'CAGR: {CAGR}')\r\n",
        "  print(f'SHARPE: {SHARPE}')\r\n",
        "  return CAGR, SHARPE\r\n",
        "\r\n",
        "cagr_list = []\r\n",
        "sharpe_list = []\r\n",
        "\r\n",
        "for i in range(20):\r\n",
        "  num = np.random.randint(0,len(tickers))\r\n",
        "  try:\r\n",
        "    print(f\"Testing on {tickers[num]}\")\r\n",
        "    CAGR, SHARPE = Test(tickers[num])\r\n",
        "    cagr_list.append(CAGR)\r\n",
        "    sharpe_list.append(SHARPE)\r\n",
        "    print()\r\n",
        "  except:\r\n",
        "    continue"
      ],
      "execution_count": 21,
      "outputs": [
        {
          "output_type": "stream",
          "text": [
            "Testing on RST\n",
            "This is the dataset:    daily close  (MACD_Signal,)  (MACD_Hist,)  (MACD,)\n",
            "0        25.12         -1.1727        0.0000   0.0000\n",
            "1        28.25         -1.1598       -0.0650   0.1742\n",
            "2        27.30         -1.1345       -0.0688   0.1867\n",
            "3        26.94         -1.1076       -0.0728   0.1999\n",
            "4        26.18         -1.0773       -0.0770   0.2138\n",
            "(2323, 4)\n",
            "(290, 4)\n",
            "(291, 4)\n",
            "<class 'numpy.ndarray'>\n",
            "9/9 [==============================] - 0s 6ms/step - loss: 2.3846 - mae: 2.8169\n",
            "Test Accuracy: [2.3846170902252197, 2.816875457763672]\n",
            "Testing this algorithm on the last 291 days.\n",
            "Training and Testing took: 0.7700992385546367 minutes to complete.\n",
            "Initial Investment: [[18.91, 17.4, 15.38, 15.24, 17.83, 18.35, 19.02, 16.03, 12.79, 14.95, 15.57, 17.5, 17.86, 16.1, 16.82, 25.9], 137.84, 139.17, 139.6, 139.45, 142.11, 139.11, 139.59, 134.32, 132.39, 134.95, 138.36, 140.57, 149.77, 133.0, 142.48, 143.66, 142.11, 133.82, 137.69, 135.09, 133.76, 134.21, 134.98, 134.34, 135.82, 140.56, 150.7, 129.55, 105.14, 106.34, 118.69, 116.76, 121.87, 119.12, 129.87, 122.47, 118.54, 125.79, 125.45, 124.96, 125.03, 124.64, 124.45, 122.76, 121.09, 125.1, 111.9, 114.5, 116.77, 123.16, 123.61, 124.7, 124.96, 125.55, 123.8, 123.94, 126.92, 128.39, 118.61, 122.1]\n",
            "Total profit made: 4.330000000000005\n",
            "Average Return: 0.017365791113192176 with Standard Deviation: 0.07769738590042814\n",
            "Testing on PEGA\n"
          ],
          "name": "stdout"
        },
        {
          "output_type": "stream",
          "text": [
            "/usr/local/lib/python3.7/dist-packages/ipykernel_launcher.py:55: VisibleDeprecationWarning: Creating an ndarray from ragged nested sequences (which is a list-or-tuple of lists-or-tuples-or ndarrays with different lengths or shapes) is deprecated. If you meant to do this, you must specify 'dtype=object' when creating the ndarray\n"
          ],
          "name": "stderr"
        },
        {
          "output_type": "stream",
          "text": [
            "This is the dataset:    daily close  (MACD,)  (MACD_Hist,)  (MACD_Signal,)\n",
            "0        7.375   0.3734        0.0000          0.0000\n",
            "1        7.281   0.3551       -1.1381          2.2389\n",
            "2        7.188   0.3344       -0.3397          2.5235\n",
            "3        6.875   0.3189        0.0501          2.6084\n",
            "4        6.813   0.2986        0.4599          2.5959\n",
            "(4291, 4)\n",
            "(536, 4)\n",
            "(537, 4)\n",
            "<class 'numpy.ndarray'>\n",
            "17/17 [==============================] - 0s 5ms/step - loss: 15.7362 - mae: 16.2261\n",
            "Test Accuracy: [15.736210823059082, 16.226062774658203]\n",
            "Testing this algorithm on the last 537 days.\n",
            "Training and Testing took: 1.396165100733439 minutes to complete.\n",
            "Initial Investment: [[77.08, 69.61, 63.01, 62.81, 66.32], 137.84, 139.17, 139.6, 139.45, 142.11, 139.11, 139.59, 134.32, 132.39, 134.95, 138.36, 140.57, 149.77, 133.0, 142.48, 143.66, 142.11, 133.82, 137.69, 135.09, 133.76, 134.21, 134.98, 134.34, 135.82, 140.56, 150.7, 129.55, 105.14, 106.34, 118.69, 116.76, 121.87, 119.12, 129.87, 122.47, 118.54, 125.79, 125.45, 124.96, 125.03, 124.64, 124.45, 122.76, 121.09, 125.1, 111.9, 114.5, 116.77, 123.16, 123.61, 124.7, 124.96, 125.55, 123.8, 123.94, 126.92, 128.39, 118.61, 122.1]\n",
            "Total profit made: 20.580000000000005\n",
            "Average Return: 0.059885474674459614 with Standard Deviation: 0.022912680069624863\n",
            "Testing on LF\n"
          ],
          "name": "stdout"
        },
        {
          "output_type": "stream",
          "text": [
            "/usr/local/lib/python3.7/dist-packages/ipykernel_launcher.py:55: VisibleDeprecationWarning: Creating an ndarray from ragged nested sequences (which is a list-or-tuple of lists-or-tuples-or ndarrays with different lengths or shapes) is deprecated. If you meant to do this, you must specify 'dtype=object' when creating the ndarray\n"
          ],
          "name": "stderr"
        },
        {
          "output_type": "stream",
          "text": [
            "Testing on KCG\n",
            "This is the dataset:    daily close  (MACD_Signal,)  (MACD_Hist,)  (MACD,)\n",
            "0        10.50         -1.0185        0.0000   0.0000\n",
            "1        10.75         -0.9829       -0.0051   0.0139\n",
            "2        12.24         -0.9465       -0.0054   0.0149\n",
            "3        12.18         -0.9074       -0.0056   0.0160\n",
            "4        11.16         -0.8658       -0.0059   0.0171\n",
            "(834, 4)\n",
            "(104, 4)\n",
            "(105, 4)\n",
            "<class 'numpy.ndarray'>\n",
            "3/3 [==============================] - 0s 10ms/step - loss: 1.5141 - mae: 1.8644\n",
            "Test Accuracy: [1.514057993888855, 1.8644063472747803]\n",
            "Testing this algorithm on the last 105 days.\n",
            "Training and Testing took: 0.3264349023501078 minutes to complete.\n",
            "Initial Investment: [[17.57, 19.74], 137.84, 139.17, 139.6, 139.45, 142.11, 139.11, 139.59, 134.32, 132.39, 134.95, 138.36, 140.57, 149.77, 133.0, 142.48, 143.66, 142.11, 133.82, 137.69, 135.09, 133.76, 134.21, 134.98, 134.34, 135.82, 140.56, 150.7, 129.55, 105.14, 106.34, 118.69, 116.76, 121.87, 119.12, 129.87, 122.47, 118.54, 125.79, 125.45, 124.96, 125.03, 124.64, 124.45, 122.76, 121.09, 125.1, 111.9, 114.5, 116.77, 123.16, 123.61, 124.7, 124.96, 125.55, 123.8, 123.94, 126.92, 128.39, 118.61, 122.1]\n",
            "Total profit made: 0.25000000000000355\n",
            "Average Return: 0.006426169688016015 with Standard Deviation: 0.004718713797293161\n",
            "Testing on EVT\n"
          ],
          "name": "stdout"
        },
        {
          "output_type": "stream",
          "text": [
            "/usr/local/lib/python3.7/dist-packages/ipykernel_launcher.py:55: VisibleDeprecationWarning: Creating an ndarray from ragged nested sequences (which is a list-or-tuple of lists-or-tuples-or ndarrays with different lengths or shapes) is deprecated. If you meant to do this, you must specify 'dtype=object' when creating the ndarray\n"
          ],
          "name": "stderr"
        },
        {
          "output_type": "stream",
          "text": [
            "This is the dataset:    daily close  (MACD,)  (MACD_Hist,)  (MACD_Signal,)\n",
            "0        20.00   0.0037        0.0000          0.0000\n",
            "1        20.00  -0.0005        0.0384          0.2205\n",
            "2        20.01  -0.0043        0.0574          0.2109\n",
            "3        20.01  -0.0084        0.0381          0.1965\n",
            "4        20.01  -0.0105        0.0369          0.1870\n",
            "(3507, 4)\n",
            "(438, 4)\n",
            "(439, 4)\n",
            "<class 'numpy.ndarray'>\n",
            "14/14 [==============================] - 0s 5ms/step - loss: 0.9831 - mae: 1.2956\n",
            "Test Accuracy: [0.9830998182296753, 1.2956428527832031]\n",
            "Testing this algorithm on the last 439 days.\n",
            "Training and Testing took: 1.132406198978424 minutes to complete.\n",
            "Initial Investment: [[23.29, 23.59, 24.42, 24.35, 23.56, 23.26, 23.26, 24.53, 24.24, 24.02, 24.48, 24.54, 25.01, 25.12, 24.86, 25.03, 25.31, 25.33, 25.31, 24.21, 22.88, 21.04, 15.53, 18.22, 18.68, 18.47, 18.45, 21.12, 20.05, 19.26, 19.79, 19.77, 20.26, 20.22, 20.17, 20.2, 20.08, 19.8, 20.02, 21.06, 22.26, 22.8, 23.4, 23.54, 23.46, 23.14], 137.84, 139.17, 139.6, 139.45, 142.11, 139.11, 139.59, 134.32, 132.39, 134.95, 138.36, 140.57, 149.77, 133.0, 142.48, 143.66, 142.11, 133.82, 137.69, 135.09, 133.76, 134.21, 134.98, 134.34, 135.82, 140.56, 150.7, 129.55, 105.14, 106.34, 118.69, 116.76, 121.87, 119.12, 129.87, 122.47, 118.54, 125.79, 125.45, 124.96, 125.03, 124.64, 124.45, 122.76, 121.09, 125.1, 111.9, 114.5, 116.77, 123.16, 123.61, 124.7, 124.96, 125.55, 123.8, 123.94, 126.92, 128.39, 118.61, 122.1]\n",
            "Total profit made: -3.1099999999999994\n",
            "Average Return: -0.003072735704313579 with Standard Deviation: 0.05265649304749802\n",
            "Testing on VIAB\n"
          ],
          "name": "stdout"
        },
        {
          "output_type": "stream",
          "text": [
            "/usr/local/lib/python3.7/dist-packages/ipykernel_launcher.py:55: VisibleDeprecationWarning: Creating an ndarray from ragged nested sequences (which is a list-or-tuple of lists-or-tuples-or ndarrays with different lengths or shapes) is deprecated. If you meant to do this, you must specify 'dtype=object' when creating the ndarray\n"
          ],
          "name": "stderr"
        },
        {
          "output_type": "stream",
          "text": [
            "Testing on IRWD\n",
            "Testing on AMRB\n",
            "Testing on KED\n",
            "Testing on MYL\n",
            "Testing on CHK-PD\n",
            "Testing on OCFC\n",
            "Testing on NEWS\n",
            "Testing on GMT\n",
            "Testing on LQ\n",
            "Testing on MUR\n",
            "Testing on TTMI\n",
            "Testing on PHH\n",
            "Testing on SGL\n",
            "Testing on AMRK\n"
          ],
          "name": "stdout"
        }
      ]
    }
  ]
}